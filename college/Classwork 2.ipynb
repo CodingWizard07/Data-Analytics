{
 "cells": [
  {
   "cell_type": "markdown",
   "id": "2772cf98",
   "metadata": {},
   "source": [
    "### Aditya Mondal 21051277"
   ]
  },
  {
   "cell_type": "markdown",
   "id": "d7744ac6",
   "metadata": {},
   "source": [
    "#### 1.Find the minimum and maximum element in an array"
   ]
  },
  {
   "cell_type": "code",
   "execution_count": 2,
   "id": "5dbb1ef2",
   "metadata": {},
   "outputs": [
    {
     "name": "stdout",
     "output_type": "stream",
     "text": [
      "Minimum element: 1\n",
      "Maximum element: 9\n"
     ]
    }
   ],
   "source": [
    "def minmax(arr):   \n",
    "    min_value = arr[0]\n",
    "    max_value = arr[0]\n",
    "    \n",
    "    for num in arr[1:]:\n",
    "        if num < min_value:\n",
    "            min_value = num\n",
    "        if num > max_value:\n",
    "            max_value = num\n",
    "    \n",
    "    return min_value, max_value\n",
    "\n",
    "arr = [3, 1, 4, 1, 5, 9]\n",
    "min_e, max_e = minmax(arr)\n",
    "print(f\"Minimum element: {min_e}\")\n",
    "print(f\"Maximum element: {max_e}\")\n"
   ]
  },
  {
   "cell_type": "markdown",
   "id": "67fc7db1",
   "metadata": {},
   "source": [
    "#### 2.Python program to find the average of all numbers in a Python array"
   ]
  },
  {
   "cell_type": "code",
   "execution_count": 6,
   "id": "5ee59be3",
   "metadata": {},
   "outputs": [
    {
     "name": "stdout",
     "output_type": "stream",
     "text": [
      "Average of the provided array : 3.0\n"
     ]
    }
   ],
   "source": [
    "def find_avg(arr):\n",
    "    avg=0\n",
    "    result=0\n",
    "    for i in arr:\n",
    "        result+=i\n",
    "        \n",
    "    #find array length\n",
    "    k=len(arr)\n",
    "    avg = result / k\n",
    "    \n",
    "    return round(avg,2)\n",
    "\n",
    "arr = [1,2,3,4,5]\n",
    "a = find_avg(arr)\n",
    "print(f\"Average of the provided array : {a}\")"
   ]
  },
  {
   "cell_type": "markdown",
   "id": "cdea1027",
   "metadata": {},
   "source": [
    "#### 3.Python program to store all even numbers from an array in another array\n"
   ]
  },
  {
   "cell_type": "code",
   "execution_count": 7,
   "id": "2749d419",
   "metadata": {},
   "outputs": [
    {
     "name": "stdout",
     "output_type": "stream",
     "text": [
      "Successfully stored all even numbers in the new array.\n",
      "New array with even numbers: [4, 2, 6]\n"
     ]
    }
   ],
   "source": [
    "def transfer_even(arr1, arr2):\n",
    "    for i in arr1:\n",
    "        if i % 2 == 0:\n",
    "            arr2.append(i)\n",
    "    if arr2:\n",
    "        print(\"Successfully stored all even numbers in the new array.\")\n",
    "\n",
    "\n",
    "arr1 = [3,1,4,1,5,9,2,6]\n",
    "arr2 = []\n",
    "transfer_even(arr1, arr2)\n",
    "print(f\"New array with even numbers: {arr2}\")\n"
   ]
  },
  {
   "cell_type": "code",
   "execution_count": null,
   "id": "a2a19e8e",
   "metadata": {},
   "outputs": [],
   "source": []
  }
 ],
 "metadata": {
  "kernelspec": {
   "display_name": "Python 3 (ipykernel)",
   "language": "python",
   "name": "python3"
  },
  "language_info": {
   "codemirror_mode": {
    "name": "ipython",
    "version": 3
   },
   "file_extension": ".py",
   "mimetype": "text/x-python",
   "name": "python",
   "nbconvert_exporter": "python",
   "pygments_lexer": "ipython3",
   "version": "3.10.9"
  }
 },
 "nbformat": 4,
 "nbformat_minor": 5
}
