{
 "cells": [
  {
   "cell_type": "markdown",
   "id": "9d08ab2c",
   "metadata": {},
   "source": [
    "### Aritra Chatterjee 21051290"
   ]
  },
  {
   "cell_type": "markdown",
   "id": "8a293c0c",
   "metadata": {},
   "source": [
    "#### 1. Print the first 10 natural numbers using for loop."
   ]
  },
  {
   "cell_type": "code",
   "execution_count": 1,
   "id": "b96e4486",
   "metadata": {},
   "outputs": [
    {
     "name": "stdout",
     "output_type": "stream",
     "text": [
      "1\n",
      "2\n",
      "3\n",
      "4\n",
      "5\n",
      "6\n",
      "7\n",
      "8\n",
      "9\n",
      "10\n"
     ]
    }
   ],
   "source": [
    "for i in range(1,11):\n",
    "    print(i)"
   ]
  },
  {
   "cell_type": "markdown",
   "id": "1ee40b00",
   "metadata": {},
   "source": [
    "#### 2.Calculate the sum of all numbers from 1 to a given number."
   ]
  },
  {
   "cell_type": "code",
   "execution_count": 2,
   "id": "0be72e1b",
   "metadata": {},
   "outputs": [
    {
     "name": "stdout",
     "output_type": "stream",
     "text": [
      "Enter a number: 20\n",
      "Total till the given number: 210\n"
     ]
    }
   ],
   "source": [
    "def sum_numbers(x):\n",
    "    total = 0\n",
    "    for number in range(1, x + 1):\n",
    "        total += number\n",
    "    print(\"Total till the given number: \" + str(total))\n",
    "\n",
    "x = int(input(\"Enter a number: \"))\n",
    "sum_numbers(x)"
   ]
  },
  {
   "cell_type": "markdown",
   "id": "106e103d",
   "metadata": {},
   "source": [
    "#### 3.Calculate the sum of all the odd numbers within the given range"
   ]
  },
  {
   "cell_type": "code",
   "execution_count": 3,
   "id": "6efe68b2",
   "metadata": {},
   "outputs": [
    {
     "name": "stdout",
     "output_type": "stream",
     "text": [
      "Enter a number for range: 50\n",
      "Total of odd number: 625\n"
     ]
    }
   ],
   "source": [
    "def sum_odd_numbers(x):\n",
    "    total = 0\n",
    "    for num in range(1, x + 1):\n",
    "        if(num%2 != 0):\n",
    "            total += num\n",
    "    print(\"Total of odd number: \" + str(total))\n",
    "\n",
    "x = int(input(\"Enter a number for range: \"))\n",
    "sum_odd_numbers(x)"
   ]
  },
  {
   "cell_type": "markdown",
   "id": "4c49503b",
   "metadata": {},
   "source": [
    "#### 4.Print a multiplication table of a given number."
   ]
  },
  {
   "cell_type": "code",
   "execution_count": 4,
   "id": "bf6a92cf",
   "metadata": {},
   "outputs": [
    {
     "name": "stdout",
     "output_type": "stream",
     "text": [
      "Enter a number to find Multiplication Table : 8\n",
      "Multiplication Table for 8\n",
      "8 * 1 = 8\n",
      "8 * 2 = 16\n",
      "8 * 3 = 24\n",
      "8 * 4 = 32\n",
      "8 * 5 = 40\n",
      "8 * 6 = 48\n",
      "8 * 7 = 56\n",
      "8 * 8 = 64\n",
      "8 * 9 = 72\n",
      "8 * 10 = 80\n"
     ]
    }
   ],
   "source": [
    "def multiplication_table(num):\n",
    "    ans = []\n",
    "    for i in range(1, 11):\n",
    "        ans.append(i * num)\n",
    "    print(f\"Multiplication Table for {num}\")\n",
    "    \n",
    "    for i in range(1, 11):\n",
    "        print(f\"{num} * {i} = {ans[i-1]}\")\n",
    "num = int(input(\"Enter a number to find Multiplication Table : \"))\n",
    "multiplication_table(num)"
   ]
  },
  {
   "cell_type": "markdown",
   "id": "9d1a2ebf",
   "metadata": {},
   "source": [
    "#### 5. Count the total number of digits in a number"
   ]
  },
  {
   "cell_type": "code",
   "execution_count": 5,
   "id": "833dd85c",
   "metadata": {},
   "outputs": [
    {
     "name": "stdout",
     "output_type": "stream",
     "text": [
      "Enter a number to find length : 541\n",
      "Total no. of digits : 3\n"
     ]
    }
   ],
   "source": [
    "def count_digit(num):\n",
    "    count = len(str(num))\n",
    "    print(\"Total no. of digits : \" + str(count))\n",
    "\n",
    "num = int(input(\"Enter a number to find length : \"))\n",
    "count_digit(num)\n"
   ]
  }
 ],
 "metadata": {
  "kernelspec": {
   "display_name": "Python 3 (ipykernel)",
   "language": "python",
   "name": "python3"
  },
  "language_info": {
   "codemirror_mode": {
    "name": "ipython",
    "version": 3
   },
   "file_extension": ".py",
   "mimetype": "text/x-python",
   "name": "python",
   "nbconvert_exporter": "python",
   "pygments_lexer": "ipython3",
   "version": "3.10.9"
  }
 },
 "nbformat": 4,
 "nbformat_minor": 5
}
